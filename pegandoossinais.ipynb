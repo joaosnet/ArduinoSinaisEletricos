{
 "cells": [
  {
   "cell_type": "code",
   "execution_count": 6,
   "metadata": {},
   "outputs": [],
   "source": [
    "import serial\n",
    "\n",
    "ADC0 = serial.Serial()\n",
    "ADC1 = serial.Serial()"
   ]
  },
  {
   "cell_type": "code",
   "execution_count": 7,
   "metadata": {},
   "outputs": [
    {
     "ename": "ValueError",
     "evalue": "\"port\" must be None or a string, not <class 'int'>",
     "output_type": "error",
     "traceback": [
      "\u001b[1;31m---------------------------------------------------------------------------\u001b[0m",
      "\u001b[1;31mValueError\u001b[0m                                Traceback (most recent call last)",
      "Cell \u001b[1;32mIn[7], line 1\u001b[0m\n\u001b[1;32m----> 1\u001b[0m \u001b[43mADC0\u001b[49m\u001b[38;5;241;43m.\u001b[39;49m\u001b[43mport\u001b[49m \u001b[38;5;241m=\u001b[39m \u001b[38;5;241m1\u001b[39m\n\u001b[0;32m      2\u001b[0m ADC1\u001b[38;5;241m.\u001b[39mport \u001b[38;5;241m=\u001b[39m \u001b[38;5;241m2\u001b[39m\n\u001b[0;32m      4\u001b[0m ADC0\u001b[38;5;241m.\u001b[39mbaudrate \u001b[38;5;241m=\u001b[39m \u001b[38;5;241m9600\u001b[39m\n",
      "File \u001b[1;32mc:\\Users\\joaod\\anaconda\\envs\\pds\\lib\\site-packages\\serial\\serialutil.py:268\u001b[0m, in \u001b[0;36mSerialBase.port\u001b[1;34m(self, port)\u001b[0m\n\u001b[0;32m    264\u001b[0m \u001b[38;5;250m\u001b[39m\u001b[38;5;124;03m\"\"\"\\\u001b[39;00m\n\u001b[0;32m    265\u001b[0m \u001b[38;5;124;03mChange the port.\u001b[39;00m\n\u001b[0;32m    266\u001b[0m \u001b[38;5;124;03m\"\"\"\u001b[39;00m\n\u001b[0;32m    267\u001b[0m \u001b[38;5;28;01mif\u001b[39;00m port \u001b[38;5;129;01mis\u001b[39;00m \u001b[38;5;129;01mnot\u001b[39;00m \u001b[38;5;28;01mNone\u001b[39;00m \u001b[38;5;129;01mand\u001b[39;00m \u001b[38;5;129;01mnot\u001b[39;00m \u001b[38;5;28misinstance\u001b[39m(port, basestring):\n\u001b[1;32m--> 268\u001b[0m     \u001b[38;5;28;01mraise\u001b[39;00m \u001b[38;5;167;01mValueError\u001b[39;00m(\u001b[38;5;124m'\u001b[39m\u001b[38;5;124m\"\u001b[39m\u001b[38;5;124mport\u001b[39m\u001b[38;5;124m\"\u001b[39m\u001b[38;5;124m must be None or a string, not \u001b[39m\u001b[38;5;132;01m{}\u001b[39;00m\u001b[38;5;124m'\u001b[39m\u001b[38;5;241m.\u001b[39mformat(\u001b[38;5;28mtype\u001b[39m(port)))\n\u001b[0;32m    269\u001b[0m was_open \u001b[38;5;241m=\u001b[39m \u001b[38;5;28mself\u001b[39m\u001b[38;5;241m.\u001b[39mis_open\n\u001b[0;32m    270\u001b[0m \u001b[38;5;28;01mif\u001b[39;00m was_open:\n",
      "\u001b[1;31mValueError\u001b[0m: \"port\" must be None or a string, not <class 'int'>"
     ]
    }
   ],
   "source": [
    "ADC0.port = 1\n",
    "ADC1.port = 2\n",
    "\n",
    "ADC0.baudrate = 9600\n",
    "ADC1.baudrate = 9600\n",
    "\n",
    "ADC0.timeout = 1\n",
    "ADC1.timeout = 1\n",
    "\n",
    "ADC0.open()\n",
    "ADC1.open()\n",
    "\n"
   ]
  },
  {
   "cell_type": "code",
   "execution_count": 5,
   "metadata": {},
   "outputs": [
    {
     "ename": "NameError",
     "evalue": "name 'ADC0' is not defined",
     "output_type": "error",
     "traceback": [
      "\u001b[1;31m---------------------------------------------------------------------------\u001b[0m",
      "\u001b[1;31mNameError\u001b[0m                                 Traceback (most recent call last)",
      "Cell \u001b[1;32mIn[5], line 1\u001b[0m\n\u001b[1;32m----> 1\u001b[0m \u001b[43mADC0\u001b[49m\u001b[38;5;241m.\u001b[39mclose()\n\u001b[0;32m      2\u001b[0m ADC1\u001b[38;5;241m.\u001b[39mclose()\n",
      "\u001b[1;31mNameError\u001b[0m: name 'ADC0' is not defined"
     ]
    }
   ],
   "source": [
    "ADC0.close()\n",
    "ADC1.close()"
   ]
  }
 ],
 "metadata": {
  "kernelspec": {
   "display_name": "pds",
   "language": "python",
   "name": "python3"
  },
  "language_info": {
   "codemirror_mode": {
    "name": "ipython",
    "version": 3
   },
   "file_extension": ".py",
   "mimetype": "text/x-python",
   "name": "python",
   "nbconvert_exporter": "python",
   "pygments_lexer": "ipython3",
   "version": "3.10.13"
  }
 },
 "nbformat": 4,
 "nbformat_minor": 2
}
