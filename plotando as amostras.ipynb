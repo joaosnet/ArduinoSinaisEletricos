{
 "cells": [
  {
   "cell_type": "code",
   "execution_count": 83,
   "metadata": {},
   "outputs": [],
   "source": [
    "import pandas as pd\n",
    "import plotly.graph_objects as go"
   ]
  },
  {
   "cell_type": "code",
   "execution_count": 84,
   "metadata": {},
   "outputs": [],
   "source": [
    "df = pd.read_csv('amostras.csv', index_col=0)"
   ]
  },
  {
   "cell_type": "code",
   "execution_count": 85,
   "metadata": {},
   "outputs": [
    {
     "data": {
      "text/html": [
       "<div>\n",
       "<style scoped>\n",
       "    .dataframe tbody tr th:only-of-type {\n",
       "        vertical-align: middle;\n",
       "    }\n",
       "\n",
       "    .dataframe tbody tr th {\n",
       "        vertical-align: top;\n",
       "    }\n",
       "\n",
       "    .dataframe thead th {\n",
       "        text-align: right;\n",
       "    }\n",
       "</style>\n",
       "<table border=\"1\" class=\"dataframe\">\n",
       "  <thead>\n",
       "    <tr style=\"text-align: right;\">\n",
       "      <th></th>\n",
       "      <th>Tempo</th>\n",
       "      <th>ADC0_tensao</th>\n",
       "      <th>ADC0_corrente</th>\n",
       "      <th>ADC1_tensao</th>\n",
       "      <th>ADC1_corrente</th>\n",
       "    </tr>\n",
       "  </thead>\n",
       "  <tbody>\n",
       "    <tr>\n",
       "      <th>0</th>\n",
       "      <td>1.702060e+12</td>\n",
       "      <td>0.009775</td>\n",
       "      <td>0.000054</td>\n",
       "      <td>NaN</td>\n",
       "      <td>NaN</td>\n",
       "    </tr>\n",
       "    <tr>\n",
       "      <th>1</th>\n",
       "      <td>1.702060e+12</td>\n",
       "      <td>NaN</td>\n",
       "      <td>NaN</td>\n",
       "      <td>0.004888</td>\n",
       "      <td>0.000005</td>\n",
       "    </tr>\n",
       "    <tr>\n",
       "      <th>2</th>\n",
       "      <td>1.702060e+12</td>\n",
       "      <td>0.009775</td>\n",
       "      <td>0.000054</td>\n",
       "      <td>NaN</td>\n",
       "      <td>NaN</td>\n",
       "    </tr>\n",
       "    <tr>\n",
       "      <th>3</th>\n",
       "      <td>1.702060e+12</td>\n",
       "      <td>NaN</td>\n",
       "      <td>NaN</td>\n",
       "      <td>0.004888</td>\n",
       "      <td>0.000005</td>\n",
       "    </tr>\n",
       "    <tr>\n",
       "      <th>4</th>\n",
       "      <td>1.702060e+12</td>\n",
       "      <td>0.009775</td>\n",
       "      <td>0.000054</td>\n",
       "      <td>NaN</td>\n",
       "      <td>NaN</td>\n",
       "    </tr>\n",
       "  </tbody>\n",
       "</table>\n",
       "</div>"
      ],
      "text/plain": [
       "          Tempo  ADC0_tensao  ADC0_corrente  ADC1_tensao  ADC1_corrente\n",
       "0  1.702060e+12     0.009775       0.000054          NaN            NaN\n",
       "1  1.702060e+12          NaN            NaN     0.004888       0.000005\n",
       "2  1.702060e+12     0.009775       0.000054          NaN            NaN\n",
       "3  1.702060e+12          NaN            NaN     0.004888       0.000005\n",
       "4  1.702060e+12     0.009775       0.000054          NaN            NaN"
      ]
     },
     "metadata": {},
     "output_type": "display_data"
    }
   ],
   "source": [
    "display(df.head())"
   ]
  },
  {
   "cell_type": "code",
   "execution_count": 86,
   "metadata": {},
   "outputs": [
    {
     "data": {
      "application/vnd.jupyter.widget-view+json": {
       "model_id": "58d44bfa6fd543fe83cd482cf47bf2d0",
       "version_major": 2,
       "version_minor": 0
      },
      "text/plain": [
       "FigureWidget({\n",
       "    'data': [],\n",
       "    'layout': {'bargap': 0.1,\n",
       "               'barmode': 'overlay',\n",
       "               'showlegend': False,\n",
       "               'template': '...',\n",
       "               'title': {'text': 'Dados de Tensão'},\n",
       "               'width': 1000,\n",
       "               'xaxis': {'title': {'text': 'Tempo (ms)'}},\n",
       "               'yaxis': {'title': {'text': 'Valor (V)'}}}\n",
       "})"
      ]
     },
     "execution_count": 86,
     "metadata": {},
     "output_type": "execute_result"
    }
   ],
   "source": [
    "# Criando um objeto de figura\n",
    "fig = go.FigureWidget()\n",
    "# Configurando o layout\n",
    "fig.update_layout(barmode='overlay', bargap=0.1, title_text=\"Dados de Tensão\", xaxis_title=\"Tempo (ms)\", yaxis_title=\"Valor (V)\", width=1000, showlegend=False)\n",
    "# Mostrando o gráfico\n",
    "fig\n"
   ]
  },
  {
   "cell_type": "code",
   "execution_count": 87,
   "metadata": {},
   "outputs": [
    {
     "data": {
      "application/vnd.jupyter.widget-view+json": {
       "model_id": "b8c652f32592446a9fea8fe835e610ae",
       "version_major": 2,
       "version_minor": 0
      },
      "text/plain": [
       "FigureWidget({\n",
       "    'data': [],\n",
       "    'layout': {'bargap': 0.1,\n",
       "               'barmode': 'overlay',\n",
       "               'showlegend': False,\n",
       "               'template': '...',\n",
       "               'title': {'text': 'Dados de Corrente'},\n",
       "               'width': 1000,\n",
       "               'xaxis': {'title': {'text': 'Tempo (ms)'}},\n",
       "               'yaxis': {'title': {'text': 'Valor (A)'}}}\n",
       "})"
      ]
     },
     "execution_count": 87,
     "metadata": {},
     "output_type": "execute_result"
    }
   ],
   "source": [
    "fig2 = go.FigureWidget()\n",
    "fig2.update_layout(barmode='overlay', bargap=0.1, title_text=\"Dados de Corrente\", xaxis_title=\"Tempo (ms)\", yaxis_title=\"Valor (A)\", width=1000, showlegend=False)\n",
    "fig2"
   ]
  },
  {
   "cell_type": "code",
   "execution_count": 88,
   "metadata": {},
   "outputs": [],
   "source": [
    "\n",
    "# Definindo os conjuntos de dados e as cores\n",
    "data_sets = [('ADC0_tensao', 'ADC0_corrente'), ('ADC1_tensao', 'ADC1_corrente')]\n",
    "colors = ['#1f77b4', '#2ca02c']\n"
   ]
  },
  {
   "cell_type": "code",
   "execution_count": 89,
   "metadata": {},
   "outputs": [],
   "source": [
    "# Adicionando os dados de tensão e corrente para cada ADC\n",
    "for (tensao, corrente), color in zip(data_sets, colors):\n",
    "    fig.add_trace(go.Scatter(x=df['Tempo'], y=df[tensao], mode='markers', name=f'Tensão {tensao}'))\n",
    "    fig.add_trace(go.Bar(x=df['Tempo'], y=df[tensao], name=f'Tensão {tensao}', marker=dict(color=color, opacity=0.5)))\n",
    "\n",
    "    fig2.add_trace(go.Scatter(x=df['Tempo'], y=df[corrente], mode='markers', name=f'Corrente {corrente}'))\n",
    "    fig2.add_trace(go.Bar(x=df['Tempo'], y=df[corrente], name=f'Corrente {corrente}', marker=dict(color=color, opacity=0.5)))"
   ]
  }
 ],
 "metadata": {
  "kernelspec": {
   "display_name": "pds",
   "language": "python",
   "name": "python3"
  },
  "language_info": {
   "codemirror_mode": {
    "name": "ipython",
    "version": 3
   },
   "file_extension": ".py",
   "mimetype": "text/x-python",
   "name": "python",
   "nbconvert_exporter": "python",
   "pygments_lexer": "ipython3",
   "version": "3.10.13"
  }
 },
 "nbformat": 4,
 "nbformat_minor": 2
}
